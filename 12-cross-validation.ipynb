{
  "cells": [
    {
      "cell_type": "markdown",
      "metadata": {
        "id": "q50ztdlIUOZE"
      },
      "source": [
        "# Cross-Validation and scoring methods"
      ]
    },
    {
      "cell_type": "code",
      "execution_count": 1,
      "metadata": {
        "id": "X7OBQivLUOZF"
      },
      "outputs": [],
      "source": [
        "from sklearn.datasets import load_iris\n",
        "from sklearn.neighbors import KNeighborsClassifier\n",
        "\n",
        "iris = load_iris()\n",
        "X, y = iris.data, iris.target\n",
        "\n",
        "classifier = KNeighborsClassifier()"
      ]
    },
    {
      "cell_type": "markdown",
      "metadata": {
        "id": "E51Z9JBcUOZG"
      },
      "source": [
        "The labels in iris are sorted, which means that if we split the data, the first fold will only have the label 0 in it, while the last one will only have the label 2:"
      ]
    },
    {
      "cell_type": "code",
      "execution_count": 2,
      "metadata": {
        "id": "JcPAETxAUOZH",
        "outputId": "f7dab520-093a-4dab-bebd-b802a46f8c38",
        "colab": {
          "base_uri": "https://localhost:8080/"
        }
      },
      "outputs": [
        {
          "output_type": "execute_result",
          "data": {
            "text/plain": [
              "array([0, 0, 0, 0, 0, 0, 0, 0, 0, 0, 0, 0, 0, 0, 0, 0, 0, 0, 0, 0, 0, 0,\n",
              "       0, 0, 0, 0, 0, 0, 0, 0, 0, 0, 0, 0, 0, 0, 0, 0, 0, 0, 0, 0, 0, 0,\n",
              "       0, 0, 0, 0, 0, 0, 1, 1, 1, 1, 1, 1, 1, 1, 1, 1, 1, 1, 1, 1, 1, 1,\n",
              "       1, 1, 1, 1, 1, 1, 1, 1, 1, 1, 1, 1, 1, 1, 1, 1, 1, 1, 1, 1, 1, 1,\n",
              "       1, 1, 1, 1, 1, 1, 1, 1, 1, 1, 1, 1, 2, 2, 2, 2, 2, 2, 2, 2, 2, 2,\n",
              "       2, 2, 2, 2, 2, 2, 2, 2, 2, 2, 2, 2, 2, 2, 2, 2, 2, 2, 2, 2, 2, 2,\n",
              "       2, 2, 2, 2, 2, 2, 2, 2, 2, 2, 2, 2, 2, 2, 2, 2, 2, 2])"
            ]
          },
          "metadata": {},
          "execution_count": 2
        }
      ],
      "source": [
        "y"
      ]
    },
    {
      "cell_type": "markdown",
      "metadata": {
        "id": "7V2M2vaBUOZH"
      },
      "source": [
        "To avoid this problem in evaluation, we first shuffle our data:"
      ]
    },
    {
      "cell_type": "code",
      "execution_count": 3,
      "metadata": {
        "id": "pOwjB11BUOZH",
        "outputId": "b755b897-80f7-42d7-9806-3ab0f216cc75",
        "colab": {
          "base_uri": "https://localhost:8080/"
        }
      },
      "outputs": [
        {
          "output_type": "stream",
          "name": "stdout",
          "text": [
            "[2 1 0 2 0 2 0 1 1 1 2 1 1 1 1 0 1 1 0 0 2 1 0 0 2 0 0 1 1 0 2 1 0 2 2 1 0\n",
            " 1 1 1 2 0 2 0 0 1 2 2 2 2 1 2 1 1 2 2 2 2 1 2 1 0 2 1 1 1 1 2 0 0 2 1 0 0\n",
            " 1 0 2 1 0 1 2 1 0 2 2 2 2 0 0 2 2 0 2 0 2 2 0 0 2 0 0 0 1 2 2 0 0 0 1 1 0\n",
            " 0 1 0 2 1 2 1 0 2 0 2 0 0 2 0 2 1 1 1 2 2 1 1 0 1 2 2 0 1 1 1 1 0 0 0 2 1\n",
            " 2 0]\n"
          ]
        }
      ],
      "source": [
        "import numpy as np\n",
        "rng = np.random.RandomState(0)\n",
        "\n",
        "permutation = rng.permutation(len(X))\n",
        "X, y = X[permutation], y[permutation]\n",
        "print(y)"
      ]
    },
    {
      "cell_type": "markdown",
      "metadata": {
        "id": "ST6QAh1yUOZI"
      },
      "source": [
        "Now implementing cross-validation is easy:"
      ]
    },
    {
      "cell_type": "code",
      "execution_count": 4,
      "metadata": {
        "id": "xNZ-OmfIUOZI"
      },
      "outputs": [],
      "source": [
        "k = 5\n",
        "n_samples = len(X)\n",
        "fold_size = n_samples // k\n",
        "scores = []\n",
        "masks = []\n",
        "for fold in range(k):\n",
        "    # generate a boolean mask for the test set in this fold\n",
        "    test_mask = np.zeros(n_samples, dtype=bool)\n",
        "    test_mask[fold * fold_size : (fold + 1) * fold_size] = True\n",
        "    # store the mask for visualization\n",
        "    masks.append(test_mask)\n",
        "    # create training and test sets using this mask\n",
        "    X_test, y_test = X[test_mask], y[test_mask]\n",
        "    X_train, y_train = X[~test_mask], y[~test_mask]\n",
        "    # fit the classifier\n",
        "    classifier.fit(X_train, y_train)\n",
        "    # compute the score and record it\n",
        "    scores.append(classifier.score(X_test, y_test))"
      ]
    },
    {
      "cell_type": "markdown",
      "metadata": {
        "id": "wqDe_4G4UOZI"
      },
      "source": [
        "Let's check that our test mask does the right thing:"
      ]
    },
    {
      "cell_type": "code",
      "execution_count": 5,
      "metadata": {
        "id": "wbZGio_YUOZI",
        "outputId": "69fabbaa-a0c5-47df-b3eb-d1a93b5f73dd",
        "colab": {
          "base_uri": "https://localhost:8080/",
          "height": 124
        }
      },
      "outputs": [
        {
          "output_type": "execute_result",
          "data": {
            "text/plain": [
              "<matplotlib.image.AxesImage at 0x7846f75e9350>"
            ]
          },
          "metadata": {},
          "execution_count": 5
        },
        {
          "output_type": "display_data",
          "data": {
            "text/plain": [
              "<Figure size 1600x200 with 1 Axes>"
            ],
            "image/png": "[encoded data removed]"
          },
          "metadata": {}
        }
      ],
      "source": [
        "import matplotlib.pyplot as plt\n",
        "%matplotlib inline\n",
        "plt.matshow(masks, cmap='gray_r')"
      ]
    },
    {
      "cell_type": "markdown",
      "metadata": {
        "id": "m229NdN4UOZI"
      },
      "source": [
        "And now let's look a the scores we computed:"
      ]
    },
    {
      "cell_type": "code",
      "execution_count": 6,
      "metadata": {
        "id": "UH77HJXWUOZJ",
        "outputId": "4d7ad326-c69a-47f4-f163-860af9c8e52d",
        "colab": {
          "base_uri": "https://localhost:8080/"
        }
      },
      "outputs": [
        {
          "output_type": "stream",
          "name": "stdout",
          "text": [
            "[0.9666666666666667, 0.9, 1.0, 1.0, 0.9333333333333333]\n",
            "0.96\n"
          ]
        }
      ],
      "source": [
        "print(scores)\n",
        "print(np.mean(scores))"
      ]
    },
    {
      "cell_type": "markdown",
      "metadata": {
        "id": "19q8gvD6UOZJ"
      },
      "source": [
        "As you can see, there is a rather wide spectrum of scores from 90% correct to 100% correct. If we only did a single split, we might have gotten either answer."
      ]
    },
    {
      "cell_type": "markdown",
      "metadata": {
        "id": "4dlWkGvAUOZJ"
      },
      "source": [
        "As cross-validation is such a common pattern in machine learning, there are functions to do the above for you with much more flexibility and less code.\n",
        "The ``sklearn.model_selection`` module has all functions related to cross validation. There easiest function is ``cross_val_score`` which takes an estimator and a dataset, and will do all of the splitting for you:"
      ]
    },
    {
      "cell_type": "code",
      "execution_count": 7,
      "metadata": {
        "id": "c27D4Dt_UOZJ",
        "outputId": "7af5096f-0702-4e76-b5b8-e9fc97912611",
        "colab": {
          "base_uri": "https://localhost:8080/"
        }
      },
      "outputs": [
        {
          "output_type": "stream",
          "name": "stdout",
          "text": [
            "[1.         0.93333333 1.         1.         0.93333333]\n",
            "0.9733333333333334\n"
          ]
        }
      ],
      "source": [
        "from sklearn.model_selection import cross_val_score\n",
        "scores = cross_val_score(classifier, X, y)\n",
        "print(scores)\n",
        "print(np.mean(scores))"
      ]
    },
    {
      "cell_type": "markdown",
      "metadata": {
        "id": "vAWuw1cFUOZJ"
      },
      "source": [
        "As you can see, the function uses three folds by default. You can change the number of folds using the cv argument:"
      ]
    },
    {
      "cell_type": "code",
      "execution_count": 8,
      "metadata": {
        "id": "PPkEIkzZUOZJ",
        "outputId": "820561be-20ae-43fd-8a1d-83d45ac5fb0d",
        "colab": {
          "base_uri": "https://localhost:8080/"
        }
      },
      "outputs": [
        {
          "output_type": "execute_result",
          "data": {
            "text/plain": [
              "array([1.        , 0.93333333, 1.        , 1.        , 0.93333333])"
            ]
          },
          "metadata": {},
          "execution_count": 8
        }
      ],
      "source": [
        "cross_val_score(classifier, X, y, cv=5)"
      ]
    },
    {
      "cell_type": "markdown",
      "metadata": {
        "id": "elicPqPMUOZK"
      },
      "source": [
        "There are also helper objects in the cross-validation module that will generate indices for you for all kinds of different cross-validation methods, including k-fold:"
      ]
    },
    {
      "cell_type": "code",
      "execution_count": 9,
      "metadata": {
        "id": "Wv7vt5KFUOZK"
      },
      "outputs": [],
      "source": [
        "from sklearn.model_selection import KFold, StratifiedKFold, ShuffleSplit"
      ]
    },
    {
      "cell_type": "markdown",
      "metadata": {
        "id": "-gd2KDrCUOZK"
      },
      "source": [
        "By default, cross_val_score will use ``StratifiedKFold`` for classification, which ensures that the class proportions in the dataset are reflected in each fold. If you have a binary classification dataset with 90% of data point belonging to class 0, that would mean that in each fold, 90% of datapoints would belong to class 0.\n",
        "If you would just use KFold cross-validation, it is likely that you would generate a split that only contains class 0.\n",
        "It is generally a good idea to use ``StratifiedKFold`` whenever you do classification.\n",
        "\n",
        "``StratifiedKFold`` would also remove our need to shuffle ``iris``.\n",
        "Let's see what kinds of folds it generates on the unshuffled iris dataset.\n",
        "Each cross-validation class is a generator of sets of training and test indices:"
      ]
    },
    {
      "cell_type": "code",
      "execution_count": 10,
      "metadata": {
        "id": "vNdmjEFHUOZK",
        "outputId": "9a4a6eea-b9ed-4cf8-fee3-f5b2d5759928",
        "colab": {
          "base_uri": "https://localhost:8080/"
        }
      },
      "outputs": [
        {
          "output_type": "stream",
          "name": "stdout",
          "text": [
            "[  0   1   2   3   4   5   6   7   8   9  50  51  52  53  54  55  56  57\n",
            "  58  59 100 101 102 103 104 105 106 107 108 109]\n",
            "[ 10  11  12  13  14  15  16  17  18  19  60  61  62  63  64  65  66  67\n",
            "  68  69 110 111 112 113 114 115 116 117 118 119]\n",
            "[ 20  21  22  23  24  25  26  27  28  29  70  71  72  73  74  75  76  77\n",
            "  78  79 120 121 122 123 124 125 126 127 128 129]\n",
            "[ 30  31  32  33  34  35  36  37  38  39  80  81  82  83  84  85  86  87\n",
            "  88  89 130 131 132 133 134 135 136 137 138 139]\n",
            "[ 40  41  42  43  44  45  46  47  48  49  90  91  92  93  94  95  96  97\n",
            "  98  99 140 141 142 143 144 145 146 147 148 149]\n"
          ]
        }
      ],
      "source": [
        "cv = StratifiedKFold(n_splits=5)\n",
        "for train, test in cv.split(iris.data, iris.target):\n",
        "    print(test)"
      ]
    },
    {
      "cell_type": "markdown",
      "metadata": {
        "id": "oit_wfB6UOZK"
      },
      "source": [
        "As you can see, there are a couple of samples from the beginning, then from the middle, and then from the end, in each of the folds.\n",
        "This way, the class ratios are preserved. Let's visualize the split:"
      ]
    },
    {
      "cell_type": "code",
      "execution_count": 11,
      "metadata": {
        "id": "4NRUWTlQUOZL"
      },
      "outputs": [],
      "source": [
        "def plot_cv(cv, features, labels):\n",
        "    masks = []\n",
        "    for train, test in cv.split(features, labels):\n",
        "        mask = np.zeros(len(labels), dtype=bool)\n",
        "        mask[test] = 1\n",
        "        masks.append(mask)\n",
        "\n",
        "    plt.matshow(masks, cmap='gray_r')"
      ]
    },
    {
      "cell_type": "code",
      "execution_count": 12,
      "metadata": {
        "id": "Pixwp-k1UOZL",
        "outputId": "98cc0d85-990a-4699-a773-86cc1f990b0f",
        "colab": {
          "base_uri": "https://localhost:8080/",
          "height": 106
        }
      },
      "outputs": [
        {
          "output_type": "display_data",
          "data": {
            "text/plain": [
              "<Figure size 1600x200 with 1 Axes>"
            ],
            "image/png": "[encoded data removed]"
          },
          "metadata": {}
        }
      ],
      "source": [
        "plot_cv(StratifiedKFold(n_splits=5), iris.data, iris.target)"
      ]
    },
    {
      "cell_type": "markdown",
      "metadata": {
        "id": "qvaaqJGlUOZL"
      },
      "source": [
        "For comparison, again the standard KFold, that ignores the labels:"
      ]
    },
    {
      "cell_type": "code",
      "execution_count": 13,
      "metadata": {
        "id": "23SRRmOGUOZL",
        "outputId": "4bd71212-cfd0-40b5-fd8c-af8a5c6f179a",
        "colab": {
          "base_uri": "https://localhost:8080/",
          "height": 106
        }
      },
      "outputs": [
        {
          "output_type": "display_data",
          "data": {
            "text/plain": [
              "<Figure size 1600x200 with 1 Axes>"
            ],
            "image/png": "[encoded data removed]"
          },
          "metadata": {}
        }
      ],
      "source": [
        "plot_cv(KFold(n_splits=5), iris.data, iris.target)"
      ]
    },
    {
      "cell_type": "markdown",
      "metadata": {
        "id": "Nuf_gsmkUOZL"
      },
      "source": [
        "Keep in mind that increasing the number of folds will give you a larger training dataset, but will lead to more repetitions, and therefore a slower evaluation:"
      ]
    },
    {
      "cell_type": "code",
      "execution_count": 14,
      "metadata": {
        "id": "G1PNXo1BUOZL",
        "outputId": "348b9e39-6c75-43cd-a749-b1da948f277c",
        "colab": {
          "base_uri": "https://localhost:8080/",
          "height": 148
        }
      },
      "outputs": [
        {
          "output_type": "display_data",
          "data": {
            "text/plain": [
              "<Figure size 1600x200 with 1 Axes>"
            ],
            "image/png": "[encoded data removed]"
          },
          "metadata": {}
        }
      ],
      "source": [
        "plot_cv(KFold(n_splits=10), iris.data, iris.target)"
      ]
    },
    {
      "cell_type": "markdown",
      "metadata": {
        "id": "BP-puR4UUOZM"
      },
      "source": [
        "Another helpful cross-validation generator is ``ShuffleSplit``. This generator simply splits of a random portion of the data repeatedly. This allows the user to specify the number of repetitions and the training set size independently:"
      ]
    },
    {
      "cell_type": "code",
      "execution_count": 15,
      "metadata": {
        "id": "lJkc7xDkUOZM",
        "outputId": "49316803-cc14-413e-dc89-298d65a4f8a0",
        "colab": {
          "base_uri": "https://localhost:8080/",
          "height": 106
        }
      },
      "outputs": [
        {
          "output_type": "display_data",
          "data": {
            "text/plain": [
              "<Figure size 1600x200 with 1 Axes>"
            ],
            "image/png": "[encoded data removed]"
          },
          "metadata": {}
        }
      ],
      "source": [
        "plot_cv(ShuffleSplit(n_splits=5, test_size=.2), iris.data, iris.target)"
      ]
    },
    {
      "cell_type": "markdown",
      "metadata": {
        "id": "cJGXzAPSUOZM"
      },
      "source": [
        "If you want a more robust estimate, you can just increase the number of splits:"
      ]
    },
    {
      "cell_type": "code",
      "execution_count": 22,
      "metadata": {
        "id": "gXY6fXwtUOZM",
        "outputId": "84a31177-4260-40eb-9449-c0dfc3c1f512",
        "colab": {
          "base_uri": "https://localhost:8080/",
          "height": 230
        }
      },
      "outputs": [
        {
          "output_type": "display_data",
          "data": {
            "text/plain": [
              "<Figure size 1600x213.333 with 1 Axes>"
            ],
            "image/png": "[encoded data removed]"
          },
          "metadata": {}
        }
      ],
      "source": [
        "plot_cv(ShuffleSplit(n_splits=20, test_size=.5), iris.data, iris.target)"
      ]
    },
    {
      "cell_type": "markdown",
      "metadata": {
        "id": "4b0uMNRBUOZM"
      },
      "source": [
        "You can use all of these cross-validation generators with the `cross_val_score` method:"
      ]
    },
    {
      "cell_type": "code",
      "execution_count": 25,
      "metadata": {
        "id": "aNFFbwnTUOZN",
        "outputId": "261e55b3-e287-409f-9716-271c3498dd09",
        "colab": {
          "base_uri": "https://localhost:8080/"
        }
      },
      "outputs": [
        {
          "output_type": "execute_result",
          "data": {
            "text/plain": [
              "array([0.93333333, 0.93333333, 0.96666667, 0.96666667, 0.93333333,\n",
              "       0.93333333, 0.93333333, 0.96666667, 1.        , 1.        ,\n",
              "       0.93333333, 0.86666667, 0.96666667, 0.96666667, 0.96666667,\n",
              "       1.        , 1.        , 0.96666667, 1.        , 0.93333333,\n",
              "       0.96666667, 0.93333333, 0.93333333, 1.        , 1.        ,\n",
              "       0.96666667, 0.96666667, 0.96666667, 0.93333333, 0.93333333,\n",
              "       1.        , 0.96666667, 0.93333333, 1.        , 0.96666667,\n",
              "       1.        , 0.96666667, 0.86666667, 0.96666667, 1.        ,\n",
              "       0.9       , 0.96666667, 1.        , 0.96666667, 0.96666667,\n",
              "       0.96666667, 1.        , 0.9       , 1.        , 0.93333333])"
            ]
          },
          "metadata": {},
          "execution_count": 25
        }
      ],
      "source": [
        "cv = ShuffleSplit(n_splits=50, test_size=.2)\n",
        "cross_val_score(classifier, X, y, cv=cv)"
      ]
    },
    {
      "cell_type": "markdown",
      "metadata": {
        "id": "OVGv0ghQUOZN"
      },
      "source": [
        "<div class=\"alert alert-success\">\n",
        "    <b>EXERCISE</b>:\n",
        "     <ul>\n",
        "      <li>\n",
        "      Perform three-fold cross-validation using the ``KFold`` class on the iris dataset without shuffling the data. Can you explain the result?\n",
        "      </li>\n",
        "    </ul>\n",
        "</div>"
      ]
    },
    {
      "cell_type": "code",
      "execution_count": 18,
      "metadata": {
        "id": "2LXuLzbjUOZN"
      },
      "outputs": [],
      "source": [
        "# %load solutions/12_iris_cross_validation.py"
      ]
    }
  ],
  "metadata": {
    "anaconda-cloud": {},
    "kernelspec": {
      "display_name": "tf2.5",
      "language": "python",
      "name": "tensorflow_25"
    },
    "language_info": {
      "codemirror_mode": {
        "name": "ipython",
        "version": 3
      },
      "file_extension": ".py",
      "mimetype": "text/x-python",
      "name": "python",
      "nbconvert_exporter": "python",
      "pygments_lexer": "ipython3",
      "version": "3.8.10"
    },
    "colab": {
      "provenance": []
    }
  },
  "nbformat": 4,
  "nbformat_minor": 0
}